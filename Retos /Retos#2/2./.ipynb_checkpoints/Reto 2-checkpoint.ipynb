{
 "cells": [
  {
   "cell_type": "markdown",
   "id": "2024624b",
   "metadata": {},
   "source": [
    "importo todas las librerias "
   ]
  },
  {
   "cell_type": "code",
   "execution_count": 2,
   "id": "ccc5b03e",
   "metadata": {},
   "outputs": [],
   "source": [
    "import numpy as np\n",
    "import matplotlib.pyplot as plt\n",
    "import ctypes\n",
    "import statistics\n",
    "import time\n",
    "import random"
   ]
  },
  {
   "cell_type": "markdown",
   "id": "95123eb8",
   "metadata": {},
   "source": [
    "Creo el assembler"
   ]
  },
  {
   "cell_type": "code",
   "execution_count": 3,
   "id": "9b6f2940",
   "metadata": {},
   "outputs": [
    {
     "name": "stdout",
     "output_type": "stream",
     "text": [
      "Writing ASMcalculoLimite.asm\n"
     ]
    }
   ],
   "source": [
    "%%file ASMcalculoLimite.asm \n",
    "global ASMLimite\n",
    "; extern double calcularVarianzaASM(n)\n",
    ";       xmm0                        rdi   \n",
    "section .data \n",
    "    unitario dq 1.0\n",
    "section .text\n",
    "    ASMLimite:\n",
    "    xorpd  xmm2,xmm2\n",
    "    xorpd  xmm3,xmm3\n",
    "    xorpd  xmm4,xmm4\n",
    "    xorpd  xmm5,xmm5\n",
    "    xor rax,rax\n",
    "    xor rcx,rcx\n",
    "    xor r10,r10\n",
    "    mov rax,rdi\n",
    "    ;movsd xmm3,rdi\n",
    "    cvtsi2sd xmm3,rax\n",
    "    movsd xmm1,QWORD[rel unitario]\n",
    "    movsd xmm4,QWORD[rel unitario]\n",
    "    divsd xmm1,xmm3\n",
    "    addsd xmm1,xmm4\n",
    "    movsd xmm2,xmm1\n",
    "    mov rcx,rdi\n",
    "    dec  rcx\n",
    "    potencia:\n",
    "        mulsd xmm1,xmm2\n",
    "        loop potencia\n",
    "exit:\n",
    "    ;muevo el resultado al return xmm0\n",
    "    movsd xmm0,xmm1\n",
    "    ret"
   ]
  },
  {
   "cell_type": "code",
   "execution_count": 4,
   "id": "4b100f08",
   "metadata": {},
   "outputs": [
    {
     "name": "stdout",
     "output_type": "stream",
     "text": [
      "Writing funcionmain.c\n"
     ]
    }
   ],
   "source": [
    "%%file funcionmain.c\n",
    "#include <stdio.h>\n",
    "#include<math.h>\n",
    "#include<stdlib.h>\n",
    "\n",
    "//aqui declaro las funciones\n",
    "\n",
    "double CLimite(int);\n",
    "extern double ASMLimite(int); \n",
    "\n",
    "\n",
    "int main(int argc, char **argv){\n",
    "    double calculoC,calculoASM,d=0.5;\n",
    "    int i, n, cantpar, r2,a=4;\n",
    "    n = (int)atoi(argv[1]);\n",
    "    calculoC=CLimite(n);\n",
    "    printf(\"El limite en C  es %lf \\n\",calculoC); \n",
    "    calculoASM=ASMLimite(n);\n",
    "    printf(\"El limite en ASM es %lf \\n\",calculoASM);\n",
    "    return 0;\n",
    "}\n",
    "double CLimite(int n){\n",
    "    double resultado,base; \n",
    "    base=1+ (1/(double)n);\n",
    "    resultado=pow(base,n);\n",
    "    return resultado;\n",
    "}\n"
   ]
  },
  {
   "cell_type": "code",
   "execution_count": 5,
   "id": "8e1b8fb2",
   "metadata": {},
   "outputs": [
    {
     "name": "stdout",
     "output_type": "stream",
     "text": [
      "/bin/bash: ./varianza: No such file or directory\r\n"
     ]
    }
   ],
   "source": [
    "! nasm -g -f elf64 ASMcalculoLimite.asm -o calculoASM.o\n",
    "! gcc -g calculoASM.o  funcionmain.c -o limite -lm\n",
    "! ./varianza 5"
   ]
  },
  {
   "cell_type": "code",
   "execution_count": 6,
   "id": "ef1e14ec",
   "metadata": {},
   "outputs": [
    {
     "name": "stdout",
     "output_type": "stream",
     "text": [
      "Writing depurador.gdb\n"
     ]
    }
   ],
   "source": [
    "%%file depurador.gdb \n",
    "set logging file reporte.txt\n",
    "set print pretty on\n",
    "set logging on\n",
    "set pagination off\n",
    "file limite\n",
    "define hook-echo\n",
    "echo <------\n",
    "end\n",
    "define hookpost-echo\n",
    "echo ------>\\n\n",
    "end\n",
    "set args 5\n",
    "b main\n",
    "b ASMLimite\n",
    "b potencia \n",
    "b exit \n",
    "r\n",
    "c\n",
    "ni\n",
    "c\n",
    "set $cont=$ecx\n",
    "echo calculo de la potencia\n",
    "while ($cont>0)\n",
    "    p $xmm1.v2_double[0] \n",
    "    p $xmm2.v2_double[0]\n",
    "    p $cont\n",
    "    c\n",
    "    #set $aux= $aux -1\n",
    "    set $cont= $ecx \n",
    "end\n",
    "    p $xmm4.v2_double[0]\n",
    "quit\n"
   ]
  },
  {
   "cell_type": "code",
   "execution_count": 7,
   "id": "62bf5dd9",
   "metadata": {},
   "outputs": [
    {
     "name": "stdout",
     "output_type": "stream",
     "text": [
      "\u001b[35;1m\u001b[35;1mGNU gdb \u001b[m\u001b[35;1m(Ubuntu 9.1-0ubuntu1) \u001b[m\u001b[35;1m9.1\u001b[m\u001b[35;1m\n",
      "\u001b[m\u001b[mCopyright (C) 2020 Free Software Foundation, Inc.\n",
      "License GPLv3+: GNU GPL version 3 or later <http://gnu.org/licenses/gpl.html>\n",
      "This is free software: you are free to change and redistribute it.\n",
      "There is NO WARRANTY, to the extent permitted by law.\n",
      "Type \"show copying\" and \"show warranty\" for details.\n",
      "This GDB was configured as \"x86_64-linux-gnu\".\n",
      "Type \"show configuration\" for configuration details.\n",
      "For bug reporting instructions, please see:\n",
      "<http://www.gnu.org/software/gdb/bugs/>.\n",
      "Find the GDB manual and other documentation resources online at:\n",
      "    <http://www.gnu.org/software/gdb/documentation/>.\n",
      "\n",
      "For help, type \"help\".\n",
      "Type \"apropos word\" to search for commands related to \"word\".\n",
      "Breakpoint 1 at \u001b[34m0x11ae\u001b[m: file \u001b[32mfuncionmain.c\u001b[m, line 11.\n",
      "Breakpoint 2 at \u001b[34m0x1160\u001b[m\n",
      "Breakpoint 3 at \u001b[34m0x11a3\u001b[m\n",
      "Breakpoint 4 at \u001b[34m0x11a9\u001b[m\n",
      "\n",
      "Breakpoint 1, \u001b[33mmain\u001b[m (\u001b[36margc\u001b[m=21845, \u001b[36margv\u001b[m=0x7ffff7e64fc8 <__exit_funcs_lock>) at \u001b[32mfuncionmain.c\u001b[m:11\n",
      "11\tint main(int argc, char **argv){\n",
      "El limite en C  es 2.488320 \n",
      "\n",
      "Breakpoint 2, \u001b[34m0x0000555555555160\u001b[m in \u001b[33mASMLimite\u001b[m ()\n",
      "\u001b[34m0x0000555555555164\u001b[m in \u001b[33mASMLimite\u001b[m ()\n",
      "\n",
      "Breakpoint 3, \u001b[34m0x00005555555551a3\u001b[m in \u001b[33mpotencia\u001b[m ()\n",
      "<------\u001b[mcalculo de la potencia\u001b[m------>\n",
      "\u001b[m$1 = 1.2\n",
      "$2 = 1.2\n",
      "$3 = 4\n",
      "\n",
      "Breakpoint 3, \u001b[34m0x00005555555551a3\u001b[m in \u001b[33mpotencia\u001b[m ()\n",
      "$4 = 1.4399999999999999\n",
      "$5 = 1.2\n",
      "$6 = 3\n",
      "\n",
      "Breakpoint 3, \u001b[34m0x00005555555551a3\u001b[m in \u001b[33mpotencia\u001b[m ()\n",
      "$7 = 1.728\n",
      "$8 = 1.2\n",
      "$9 = 2\n",
      "\n",
      "Breakpoint 3, \u001b[34m0x00005555555551a3\u001b[m in \u001b[33mpotencia\u001b[m ()\n",
      "$10 = 2.0735999999999999\n",
      "$11 = 1.2\n",
      "$12 = 1\n",
      "El limite en ASM es 2.488320 \n",
      "\n",
      "Breakpoint 4, \u001b[33m__GI_exit\u001b[m (\u001b[36mstatus\u001b[m=0) at \u001b[32mexit.c\u001b[m:138\n",
      "138\texit.c: No such file or directory.\n",
      "$13 = 1\n",
      "A debugging session is active.\n",
      "\n",
      "\tInferior 1 [process 24896] will be killed.\n",
      "\n",
      "Quit anyway? (y or n) [answered Y; input not from terminal]\n"
     ]
    }
   ],
   "source": [
    "! gdb -x depurador.gdb"
   ]
  },
  {
   "cell_type": "code",
   "execution_count": 8,
   "id": "864c9588",
   "metadata": {},
   "outputs": [
    {
     "name": "stdout",
     "output_type": "stream",
     "text": [
      "Writing caculoAsm_limite.c\n"
     ]
    }
   ],
   "source": [
    "%%file caculoAsm_limite.c\n",
    "extern double ASMLimite(int );"
   ]
  },
  {
   "cell_type": "code",
   "execution_count": 9,
   "id": "a086dd39",
   "metadata": {},
   "outputs": [],
   "source": [
    "! nasm -g -f elf64 ASMcalculoLimite.asm -o calculoASM.o\n",
    "! gcc -g -shared calculoASM.o  caculoAsm_limite.c -o calculoLimiteAsm.so"
   ]
  },
  {
   "cell_type": "code",
   "execution_count": 10,
   "id": "be16713e",
   "metadata": {},
   "outputs": [
    {
     "name": "stdout",
     "output_type": "stream",
     "text": [
      "Writing calculoC_limite.c\n"
     ]
    }
   ],
   "source": [
    "%%file calculoC_limite.c\n",
    "#include <stdio.h>\n",
    "#include<math.h>\n",
    "#include<stdlib.h>\n",
    "double CLimite(int n){\n",
    "    double resultado,base; \n",
    "    base=1+ (1/(double)n);\n",
    "    resultado=pow(base,n);\n",
    "    return resultado;\n",
    "}"
   ]
  },
  {
   "cell_type": "code",
   "execution_count": 11,
   "id": "60334d1f",
   "metadata": {},
   "outputs": [],
   "source": [
    "! gcc -c -Wall -Werror -fpic calculoC_limite.c\n",
    "! gcc -shared calculoC_limite.o -o calculoLimiteC.so"
   ]
  },
  {
   "cell_type": "code",
   "execution_count": 12,
   "id": "5a7334e2",
   "metadata": {},
   "outputs": [],
   "source": [
    "def ctypes_calculoLimiteAsm():\n",
    "    #indicar la ruta del a shared library \n",
    "    libfile='./calculoLimiteAsm.so'\n",
    "    #cargar la shared library\n",
    "    lib=ctypes.CDLL(libfile)\n",
    "    #si quisiera poner double es np.float64\n",
    "    lib.ASMLimite.argtypes=[ctypes.c_int]\n",
    "    #tipo de dato que devuelve\n",
    "    lib.ASMLimite.restype=ctypes.c_double\n",
    "    return lib.ASMLimite"
   ]
  },
  {
   "cell_type": "code",
   "execution_count": 13,
   "id": "398bf725",
   "metadata": {},
   "outputs": [],
   "source": [
    "def ctypes_calculoLimiteC():\n",
    "    #indicar la ruta del a shared library \n",
    "    libfile='./calculoLimiteC.so'\n",
    "    #cargar la shared library\n",
    "    lib=ctypes.CDLL(libfile)\n",
    "    #si quisiera poner double es np.float64\n",
    "    lib.CLimite.argtypes=[ctypes.c_int]\n",
    "    #tipo de dato que devuelve\n",
    "    lib.CLimite.restype=ctypes.c_double\n",
    "    return lib.CLimite"
   ]
  },
  {
   "cell_type": "code",
   "execution_count": 14,
   "id": "6e2bfe15",
   "metadata": {},
   "outputs": [],
   "source": [
    "# tam\n",
    "ASMLimite=ctypes_calculoLimiteAsm()\n",
    "CLimite=ctypes_calculoLimiteC()"
   ]
  },
  {
   "cell_type": "markdown",
   "id": "99fa6b3a",
   "metadata": {},
   "source": [
    "---------------------------------------------------------------------------------------------------------------"
   ]
  },
  {
   "cell_type": "code",
   "execution_count": 15,
   "id": "965d2c15",
   "metadata": {},
   "outputs": [],
   "source": [
    "import statistics\n",
    "\n",
    "def filtro_mediana(sign, ventana):\n",
    "    signc = []\n",
    "    tam = len(sign)\n",
    "    offs = int((ventana-1)/2)\n",
    "    for i in range(tam):\n",
    "        inicio = i - offs if (i - offs > 0) else i\n",
    "        fin = i + offs if (i + offs < tam) else tam\n",
    "        signc.append(statistics.median(sign[inicio:fin]))\n",
    "    return signc"
   ]
  },
  {
   "cell_type": "code",
   "execution_count": 16,
   "id": "d6aa1361",
   "metadata": {},
   "outputs": [],
   "source": [
    "# modulo para medir el tiempo\n",
    "import time\n",
    "\n",
    "# tamaños de los arreglos\n",
    "sizes = 2**np.arange(11,18)\n",
    "\n",
    "# tiempos de la suma de arreglos de floats64 en C\n",
    "tc = np.zeros((len(sizes),1),dtype=np.float32)#retorna un arreglo vacío\n",
    "#            filas=4,colum=1, tipo\n",
    "# tiempos de la suma de arreglos de floats64 en ASM\n",
    "tasm = np.zeros((len(sizes),1),dtype=np.float32)\n",
    "\n",
    "# tiempo con ruido en C\n",
    "tcr = np.zeros((len(sizes),1),dtype=np.float32)\n",
    "\n",
    "# tiempo con ruido en ASM\n",
    "tasmr = np.zeros((len(sizes),1),dtype=np.float32)"
   ]
  },
  {
   "cell_type": "code",
   "execution_count": 17,
   "id": "fc27fb24",
   "metadata": {},
   "outputs": [],
   "source": [
    "# primero el caso más pequeño\n",
    "veces = 40\n",
    "tam = sizes[-1]\n",
    "index = range(veces)\n",
    "tcp = []\n",
    "tasmp = []\n",
    "\n",
    "for i in range(veces):\n",
    "    # entradas\n",
    "    xp = random.randrange(1,100,1)\n",
    "    \n",
    "    # tiempo C\n",
    "    t = time.time()\n",
    "    rc = CLimite(xp)\n",
    "    tcp.append(time.time() - t)\n",
    "    \n",
    "    # tiempo ASM\n",
    "    t = time.time()\n",
    "    rasm = ASMLimite(xp)\n",
    "    tasmp.append(time.time() - t)"
   ]
  },
  {
   "cell_type": "code",
   "execution_count": 18,
   "id": "d5606972",
   "metadata": {},
   "outputs": [
    {
     "data": {
      "image/png": "[encoded data removed]",
      "text/plain": [
       "<Figure size 432x288 with 1 Axes>"
      ]
     },
     "metadata": {
      "needs_background": "light"
     },
     "output_type": "display_data"
    }
   ],
   "source": [
    "plt.plot(index, tcp, 'r-', label='tiempo C')\n",
    "plt.plot(index, tasmp, 'b-', label='tiempo ASM')\n",
    "plt.xlabel('index')\n",
    "plt.ylabel('tiempo')\n",
    "plt.legend()\n",
    "plt.show()"
   ]
  },
  {
   "cell_type": "markdown",
   "id": "49ab0552",
   "metadata": {},
   "source": [
    "¿QUE SUCEDE SI n tiende al infinito?"
   ]
  },
  {
   "cell_type": "code",
   "execution_count": 19,
   "id": "d9bbd14e",
   "metadata": {},
   "outputs": [
    {
     "data": {
      "text/plain": [
       "2.7182804690959363"
      ]
     },
     "execution_count": 19,
     "metadata": {},
     "output_type": "execute_result"
    }
   ],
   "source": [
    "ASMLimite(1000000)"
   ]
  },
  {
   "cell_type": "code",
   "execution_count": null,
   "id": "4a6d0b24",
   "metadata": {},
   "outputs": [],
   "source": []
  }
 ],
 "metadata": {
  "kernelspec": {
   "display_name": "Python 3 (ipykernel)",
   "language": "python",
   "name": "python3"
  },
  "language_info": {
   "codemirror_mode": {
    "name": "ipython",
    "version": 3
   },
   "file_extension": ".py",
   "mimetype": "text/x-python",
   "name": "python",
   "nbconvert_exporter": "python",
   "pygments_lexer": "ipython3",
   "version": "3.8.10"
  }
 },
 "nbformat": 4,
 "nbformat_minor": 5
}
