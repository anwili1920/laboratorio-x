{
 "cells": [
  {
   "cell_type": "code",
   "execution_count": 104,
   "id": "9721ff1f",
   "metadata": {},
   "outputs": [],
   "source": [
    "import numpy as np\n",
    "import matplotlib.pyplot as plt\n",
    "import ctypes\n",
    "import statistics\n",
    "import time\n",
    "import random"
   ]
  },
  {
   "cell_type": "code",
   "execution_count": 105,
   "id": "7f95e346",
   "metadata": {},
   "outputs": [
    {
     "name": "stdout",
     "output_type": "stream",
     "text": [
      "Overwriting ASMBlimite.asm\n"
     ]
    }
   ],
   "source": [
    "%%file ASMBlimite.asm\n",
    "global calculolimiteASMB\n",
    "calculolimiteASMB:\n",
    ";calculoASM=calculolimiteASMB(n);\n",
    "; xmm0 →return, rdi→n\n",
    "    xorpd xmm1,xmm1\n",
    "    xorpd xmm2,xmm2\n",
    "    xorpd xmm3,xmm3\n",
    "    xor r8,r8\n",
    "    xor r9, r9\n",
    "    mov r8, 1\n",
    "    mov r9,rdi\n",
    "    cvtsi2sd xmm2,r9\n",
    "    cvtsi2sd xmm1,r8\n",
    "    cvtsi2sd xmm3,r8\n",
    "    addsd xmm1,xmm2; ← xmm1=n+1\n",
    "    divsd xmm1,xmm2; ← xmm1/n = (1+n)/n\n",
    "    ;movsd xmm2,xmm1; aqui almaceno el valor para ir multiplicandolo\n",
    "    ; xmm1→ x \n",
    "    ; r9 → n or xmm2 → n\n",
    "    mov rax,r9 ; dividiré lo que está en el rax, para tener el mod\n",
    "    mov r8,2\n",
    "    potenciadorBinario:\n",
    "        xor rdx,rdx\n",
    "        div r8; rax/r8\n",
    "        cmp rdx,0 \n",
    "        jne esimpar\n",
    "        continuar:\n",
    "        mulsd xmm1,xmm1\n",
    "        cmp rax,0\n",
    "    jg potenciadorBinario\n",
    "\n",
    "fin:\n",
    "    movsd xmm0,xmm3; aqui retorno el valor\n",
    "ret\n",
    "\n",
    "    esimpar:\n",
    "        mulsd xmm3,xmm1\n",
    "    jmp continuar\n"
   ]
  },
  {
   "cell_type": "code",
   "execution_count": 106,
   "id": "3df1bb34",
   "metadata": {},
   "outputs": [
    {
     "name": "stdout",
     "output_type": "stream",
     "text": [
      "Overwriting limiteASMB.c\n"
     ]
    }
   ],
   "source": [
    "%%file limiteASMB.c\n",
    "extern double calculolimiteASMB(int); "
   ]
  },
  {
   "cell_type": "code",
   "execution_count": 107,
   "id": "f2e44053",
   "metadata": {},
   "outputs": [],
   "source": [
    "! nasm -g -f elf64 ASMBlimite.asm -o calculoASM.o\n",
    "! gcc -g -shared calculoASM.o  limiteASMB.c -o calculolimiteASMB.so"
   ]
  },
  {
   "cell_type": "code",
   "execution_count": 108,
   "id": "8bd58e08",
   "metadata": {},
   "outputs": [
    {
     "name": "stdout",
     "output_type": "stream",
     "text": [
      "Overwriting limiteC.c\n"
     ]
    }
   ],
   "source": [
    "%%file limiteC.c\n",
    "double calculolimiteCB(int n){\n",
    "    double limite=1 ,x=(double)(1+n)/n;\n",
    "    int aux=n;\n",
    "    while(aux>0){\n",
    "        if(!(aux%2==0))\n",
    "            limite*=x;\n",
    "        x*=x;\n",
    "        aux= aux/2;\n",
    "    }\n",
    "    return limite;\n",
    "}"
   ]
  },
  {
   "cell_type": "code",
   "execution_count": 109,
   "id": "e3be4c14",
   "metadata": {},
   "outputs": [],
   "source": [
    "! gcc -c -Wall -Werror -fpic limiteC.c\n",
    "! gcc -shared limiteC.o -o calculoLimiteC.so"
   ]
  },
  {
   "cell_type": "code",
   "execution_count": 110,
   "id": "799b7a98",
   "metadata": {},
   "outputs": [],
   "source": [
    "def ctypes_calculolimiteASMB():\n",
    "    #indicar la ruta del a shared library \n",
    "    libfile='./calculolimiteASMB.so'\n",
    "    #cargar la shared library\n",
    "    lib=ctypes.CDLL(libfile)\n",
    "    #si quisiera poner double es np.float64\n",
    "    lib.calculolimiteASMB.argtypes=[ctypes.c_int]\n",
    "    #tipo de dato que devuelve\n",
    "    lib.calculolimiteASMB.restype=ctypes.c_double\n",
    "    return lib.calculolimiteASMB"
   ]
  },
  {
   "cell_type": "code",
   "execution_count": 111,
   "id": "7de24a18",
   "metadata": {},
   "outputs": [],
   "source": [
    "def ctypes_calculolimiteCB():\n",
    "    #indicar la ruta del a shared library \n",
    "    libfile='./calculoLimiteC.so'\n",
    "    #cargar la shared library\n",
    "    lib=ctypes.CDLL(libfile)\n",
    "    #si quisiera poner double es np.float64\n",
    "    lib.calculolimiteCB.argtypes=[ctypes.c_int]\n",
    "    #tipo de dato que devuelve\n",
    "    lib.calculolimiteCB.restype=ctypes.c_double\n",
    "    return lib.calculolimiteCB"
   ]
  },
  {
   "cell_type": "code",
   "execution_count": 112,
   "id": "7ec11773",
   "metadata": {},
   "outputs": [],
   "source": [
    "# tam\n",
    "calculolimiteASMB=ctypes_calculolimiteASMB()\n",
    "calculolimiteCB=ctypes_calculolimiteCB()"
   ]
  },
  {
   "cell_type": "code",
   "execution_count": 113,
   "id": "733fb4cd",
   "metadata": {},
   "outputs": [
    {
     "data": {
      "text/plain": [
       "True"
      ]
     },
     "execution_count": 113,
     "metadata": {},
     "output_type": "execute_result"
    }
   ],
   "source": [
    "calculolimiteASMB(5)==calculolimiteCB(5)"
   ]
  },
  {
   "cell_type": "code",
   "execution_count": 114,
   "id": "bc7a00d5",
   "metadata": {},
   "outputs": [],
   "source": [
    "import statistics\n",
    "\n",
    "def filtro_mediana(sign, ventana):\n",
    "    signc = []\n",
    "    tam = len(sign)\n",
    "    offs = int((ventana-1)/2)\n",
    "    for i in range(tam):\n",
    "        inicio = i - offs if (i - offs > 0) else i\n",
    "        fin = i + offs if (i + offs < tam) else tam\n",
    "        signc.append(statistics.median(sign[inicio:fin]))\n",
    "    return signc"
   ]
  },
  {
   "cell_type": "code",
   "execution_count": 116,
   "id": "828d8576",
   "metadata": {},
   "outputs": [],
   "source": [
    "# primero el caso más pequeño\n",
    "veces = 40\n",
    "tam = sizes[-1]\n",
    "index = range(veces)\n",
    "tcp = []\n",
    "tasmp = []\n",
    "\n",
    "for i in range(veces):\n",
    "    # entradas\n",
    "    xp = random.randrange(1,1000,1)\n",
    "    \n",
    "    # tiempo C\n",
    "    t = time.time()\n",
    "    rc = calculolimiteCB(xp)\n",
    "    tcp.append(time.time() - t)\n",
    "    \n",
    "    # tiempo ASM\n",
    "    t = time.time()\n",
    "    rasm = calculolimiteASMB(xp)\n",
    "    tasmp.append(time.time() - t)"
   ]
  },
  {
   "cell_type": "code",
   "execution_count": 117,
   "id": "092bfd8d",
   "metadata": {},
   "outputs": [
    {
     "data": {
      "image/png": "[encoded data removed]",
      "text/plain": [
       "<Figure size 432x288 with 1 Axes>"
      ]
     },
     "metadata": {
      "needs_background": "light"
     },
     "output_type": "display_data"
    }
   ],
   "source": [
    "plt.plot(index, tcp, 'r-', label='tiempo C')\n",
    "plt.plot(index, tasmp, 'b-', label='tiempo ASM')\n",
    "plt.xlabel('index')\n",
    "plt.ylabel('tiempo')\n",
    "plt.legend()\n",
    "plt.show()"
   ]
  },
  {
   "cell_type": "code",
   "execution_count": 118,
   "id": "ae6b757c",
   "metadata": {},
   "outputs": [
    {
     "name": "stdout",
     "output_type": "stream",
     "text": [
      "Overwriting funcionmain.c\n"
     ]
    }
   ],
   "source": [
    "%%file funcionmain.c\n",
    "#include <stdio.h>\n",
    "#include<math.h>\n",
    "#include<stdlib.h>\n",
    "\n",
    "//aqui declaro las funciones\n",
    "\n",
    "double calculolimiteCB(int);\n",
    "extern double calculolimiteASMB(int); \n",
    "\n",
    "\n",
    "int main(int argc, char **argv){\n",
    "    double calculoC,calculoASM,d=0.5;\n",
    "    int i, n, cantpar, r2,a=4;\n",
    "    n = (int)atoi(argv[1]);\n",
    "    calculoC=calculolimiteCB(n);\n",
    "    printf(\"El limite en C  es %lf \\n\",calculoC); \n",
    "    calculoASM=calculolimiteASMB(n);\n",
    "    printf(\"El limite en ASM es %lf \\n\",calculoASM);\n",
    "    return 0;\n",
    "}\n",
    "double calculolimiteCB(int n){\n",
    "    double resultado,base; \n",
    "    base=1+ (1/(double)n);\n",
    "    resultado=pow(base,n);\n",
    "    return resultado;\n",
    "}"
   ]
  },
  {
   "cell_type": "code",
   "execution_count": 119,
   "id": "fa4f1ef3",
   "metadata": {},
   "outputs": [
    {
     "name": "stdout",
     "output_type": "stream",
     "text": [
      "El limite en C  es 2.488320 \r\n",
      "El limite en ASM es 2.488320 \r\n"
     ]
    }
   ],
   "source": [
    "! gcc -g calculoASM.o  funcionmain.c -o limite -lm\n",
    "! ./limite 5"
   ]
  },
  {
   "cell_type": "code",
   "execution_count": 120,
   "id": "3d9ede22",
   "metadata": {},
   "outputs": [
    {
     "name": "stdout",
     "output_type": "stream",
     "text": [
      "Overwriting depurador.gdb\n"
     ]
    }
   ],
   "source": [
    "%%file depurador.gdb \n",
    "set logging file reporte.txt\n",
    "set print pretty on\n",
    "set logging on\n",
    "set pagination off\n",
    "file limite\n",
    "define hook-echo\n",
    "echo <------\n",
    "end\n",
    "define hookpost-echo\n",
    "echo ------>\\n\n",
    "end\n",
    "set args 5\n",
    "b potenciadorBinario\n",
    "b continuar\n",
    "b fin\n",
    "\n",
    "run\n",
    "echo REGISTROS 1.0\n",
    "info r rax r9\n",
    "\n",
    "set $cont = $rax \n",
    "\n",
    "\n",
    "while ($cont!=0)\n",
    "    \n",
    "    p $xmm1.v2_double\n",
    "    p $rdx \n",
    "    c\n",
    "    set $cont= $rax\n",
    "    \n",
    "end\n",
    "c\n",
    "nexti \n",
    "p $xmm0.v2_double\n",
    " \n",
    "quit"
   ]
  },
  {
   "cell_type": "code",
   "execution_count": 121,
   "id": "95bdcb8f",
   "metadata": {},
   "outputs": [
    {
     "name": "stdout",
     "output_type": "stream",
     "text": [
      "\u001b[35;1m\u001b[35;1mGNU gdb \u001b[m\u001b[35;1m(Ubuntu 9.1-0ubuntu1) \u001b[m\u001b[35;1m9.1\u001b[m\u001b[35;1m\n",
      "\u001b[m\u001b[mCopyright (C) 2020 Free Software Foundation, Inc.\n",
      "License GPLv3+: GNU GPL version 3 or later <http://gnu.org/licenses/gpl.html>\n",
      "This is free software: you are free to change and redistribute it.\n",
      "There is NO WARRANTY, to the extent permitted by law.\n",
      "Type \"show copying\" and \"show warranty\" for details.\n",
      "This GDB was configured as \"x86_64-linux-gnu\".\n",
      "Type \"show configuration\" for configuration details.\n",
      "For bug reporting instructions, please see:\n",
      "<http://www.gnu.org/software/gdb/bugs/>.\n",
      "Find the GDB manual and other documentation resources online at:\n",
      "    <http://www.gnu.org/software/gdb/documentation/>.\n",
      "\n",
      "For help, type \"help\".\n",
      "Type \"apropos word\" to search for commands related to \"word\".\n",
      "Breakpoint 1 at \u001b[34m0x119b\u001b[m\n",
      "Breakpoint 2 at \u001b[34m0x11a7\u001b[m\n",
      "Breakpoint 3 at \u001b[34m0x11b1\u001b[m\n",
      "El limite en C  es 2.488320 \n",
      "\n",
      "Breakpoint 1, \u001b[34m0x000055555555519b\u001b[m in \u001b[33mpotenciadorBinario\u001b[m ()\n",
      "<------\u001b[mREGISTROS 1.0\u001b[m------>\n",
      "\u001b[mrax            0x5                 5\n",
      "r9             0x5                 5\n",
      "$1 = {1.2, 0}\n",
      "$2 = 0\n",
      "\n",
      "Breakpoint 2, \u001b[34m0x00005555555551a7\u001b[m in \u001b[33mcontinuar\u001b[m ()\n",
      "$3 = {1.2, 0}\n",
      "$4 = 1\n",
      "\n",
      "Breakpoint 1, \u001b[34m0x000055555555519b\u001b[m in \u001b[33mpotenciadorBinario\u001b[m ()\n",
      "$5 = {1.4399999999999999, 0}\n",
      "$6 = 1\n",
      "\n",
      "Breakpoint 2, \u001b[34m0x00005555555551a7\u001b[m in \u001b[33mcontinuar\u001b[m ()\n",
      "$7 = {1.4399999999999999, 0}\n",
      "$8 = 0\n",
      "\n",
      "Breakpoint 1, \u001b[34m0x000055555555519b\u001b[m in \u001b[33mpotenciadorBinario\u001b[m ()\n",
      "$9 = {2.0735999999999999, 0}\n",
      "$10 = 0\n",
      "\n",
      "Breakpoint 2, \u001b[34m0x00005555555551a7\u001b[m in \u001b[33mcontinuar\u001b[m ()\n",
      "\n",
      "Breakpoint 3, \u001b[34m0x00005555555551b1\u001b[m in \u001b[33mfin\u001b[m ()\n",
      "\u001b[34m0x00005555555551b5\u001b[m in \u001b[33mfin\u001b[m ()\n",
      "$11 = {2.4883199999999999, 9.532824124368238e-130}\n",
      "A debugging session is active.\n",
      "\n",
      "\tInferior 1 [process 25865] will be killed.\n",
      "\n",
      "Quit anyway? (y or n) [answered Y; input not from terminal]\n"
     ]
    }
   ],
   "source": [
    "! gdb -x depurador.gdb"
   ]
  },
  {
   "cell_type": "code",
   "execution_count": 141,
   "id": "2bff59bc",
   "metadata": {},
   "outputs": [],
   "source": [
    "# modulo para medir el tiempo\n",
    "import time\n",
    "\n",
    "# tamaños de los arreglos\n",
    "valores=np.random.randint(100, 1000, (11,1))\n",
    "\n",
    "# tiempos de la suma de arreglos de floats64 en C\n",
    "tc = np.zeros((len(valores),1),dtype=np.float32)#retorna un arreglo vacío\n",
    "#            filas=4,colum=1, tipo\n",
    "# tiempos de la suma de arreglos de floats64 en ASM\n",
    "tasm = np.zeros((len(valores),1),dtype=np.float32)\n"
   ]
  },
  {
   "cell_type": "code",
   "execution_count": 142,
   "id": "825334e1",
   "metadata": {},
   "outputs": [],
   "source": [
    "veces = 40\n",
    "\n",
    "index = range(veces)\n",
    "tcp = []\n",
    "tasmp = []\n",
    "for i, valor in enumerate(valores):\n",
    "    tci = []\n",
    "    tasmi = []\n",
    "    for j in range(veces):\n",
    "    # entradas\n",
    "        xp = random.randrange(1,1000,1)\n",
    "    \n",
    "    # tiempo C\n",
    "        t = time.time()\n",
    "        rc = calculolimiteCB(xp)\n",
    "        tci.append(time.time() - t)\n",
    "    \n",
    "        # tiempo ASM\n",
    "        t = time.time()\n",
    "        rasm = calculolimiteASMB(xp)\n",
    "        tasmi.append(time.time() - t)\n",
    "    tc[i] = statistics.mean(filtro_mediana(tci,7))\n",
    "    tasm[i] = statistics.mean(filtro_mediana(tasmi,7))     "
   ]
  },
  {
   "cell_type": "code",
   "execution_count": 143,
   "id": "f1905be8",
   "metadata": {},
   "outputs": [
    {
     "data": {
      "image/png": "[encoded data removed]",
      "text/plain": [
       "<Figure size 432x288 with 1 Axes>"
      ]
     },
     "metadata": {
      "needs_background": "light"
     },
     "output_type": "display_data"
    }
   ],
   "source": [
    "np.seterr(divide='ignore', invalid='ignore')\n",
    "plt.plot(valores, tc/tasm, 'r-+',label='sin ruido')\n",
    "plt.title('speedup')\n",
    "plt.xlabel('tamagno')\n",
    "plt.ylabel('speedup')\n",
    "plt.legend()\n",
    "plt.show()"
   ]
  },
  {
   "cell_type": "code",
   "execution_count": null,
   "id": "eaa5c6a1",
   "metadata": {},
   "outputs": [],
   "source": []
  }
 ],
 "metadata": {
  "kernelspec": {
   "display_name": "Python 3 (ipykernel)",
   "language": "python",
   "name": "python3"
  },
  "language_info": {
   "codemirror_mode": {
    "name": "ipython",
    "version": 3
   },
   "file_extension": ".py",
   "mimetype": "text/x-python",
   "name": "python",
   "nbconvert_exporter": "python",
   "pygments_lexer": "ipython3",
   "version": "3.8.10"
  }
 },
 "nbformat": 4,
 "nbformat_minor": 5
}
