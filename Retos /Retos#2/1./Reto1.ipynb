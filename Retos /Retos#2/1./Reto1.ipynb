{
 "cells": [
  {
   "cell_type": "markdown",
   "id": "02f8c5f1",
   "metadata": {},
   "source": [
    "## Practico primero programar en Jupyter"
   ]
  },
  {
   "cell_type": "markdown",
   "id": "7dc03c29",
   "metadata": {},
   "source": [
    "Debo  colocar las librerias que si o si se utilizaran \n"
   ]
  },
  {
   "cell_type": "code",
   "execution_count": 1,
   "id": "51e9eb27",
   "metadata": {},
   "outputs": [],
   "source": [
    "import numpy as np\n",
    "import matplotlib.pyplot as plt\n",
    "import ctypes"
   ]
  },
  {
   "cell_type": "markdown",
   "id": "edde7f36",
   "metadata": {},
   "source": [
    "Creo la función en assembler"
   ]
  },
  {
   "cell_type": "code",
   "execution_count": 2,
   "id": "ffebdc35",
   "metadata": {},
   "outputs": [
    {
     "name": "stdout",
     "output_type": "stream",
     "text": [
      "Overwriting calculo_varianza.asm\n"
     ]
    }
   ],
   "source": [
    "%%file calculo_varianza.asm\n",
    " global calculoVarianzaAsm \n",
    "  ; extern double calcularVarianzaASM(arr,cantidad); \n",
    "  ;       xmm0                        rdi rsi   \n",
    "section .bss \n",
    "    auxiliar resq 1 \n",
    "    media resq 1\n",
    "\n",
    "section .text\n",
    "   calculoVarianzaAsm:\n",
    "    ;xorpd  xmm0,xmm0;limpio las variables \n",
    "    xorpd  xmm1,xmm1\n",
    "    xorpd  xmm2,xmm2\n",
    "    xorpd  xmm3,xmm3\n",
    "    xorpd  xmm4,xmm4\n",
    "    xorpd  xmm5,xmm5\n",
    "    xor rax,rax\n",
    "    xor rcx,rcx\n",
    "    xor r10,r10\n",
    "    ;primero sacamos la media \n",
    "    mov rcx,rsi; muevo para realizar el loop \n",
    "    cvtsi2sd xmm3,rcx \n",
    "    calcular_media:\n",
    "        movsd xmm1,[rdi +r10]\n",
    "        ;cvtsi2sd xmm1,[rdi +r10]\n",
    "        add r10,8\n",
    "        divsd xmm1,xmm3\n",
    "        addsd xmm2,xmm1\n",
    "        loop calcular_media\n",
    "    mov rcx,rsi\n",
    "    xor r10,r10\n",
    "    xorpd xmm1,xmm1\n",
    "    xor rax,rax\n",
    "    sumatoria:\n",
    "        movsd xmm1,[rdi +r10]\n",
    "        ;cvtsi2sd xmm1,[rdi +r10]\n",
    "        add r10,8\n",
    "        subsd xmm1,xmm2\n",
    "        mulsd xmm1,xmm1\n",
    "        addsd xmm4,xmm1\n",
    "        loop sumatoria\n",
    "    divsd xmm4,xmm3\n",
    "\n",
    "exit:\n",
    "        movsd xmm0, xmm4\n",
    "ret "
   ]
  },
  {
   "cell_type": "markdown",
   "id": "604c3cee",
   "metadata": {},
   "source": [
    "Aqui empiezo la programación del main "
   ]
  },
  {
   "cell_type": "code",
   "execution_count": 5,
   "id": "62857550",
   "metadata": {},
   "outputs": [
    {
     "name": "stdout",
     "output_type": "stream",
     "text": [
      "Overwriting funcionmain.c\n"
     ]
    }
   ],
   "source": [
    "%%file funcionmain.c\n",
    "#include <stdio.h>\n",
    "#include<math.h>\n",
    "#include<stdlib.h>\n",
    "\n",
    "// aqui declaro las funciones\n",
    "double media(double*,int);\n",
    "double calculovarianzaC(double*,int);\n",
    "extern double calculoVarianzaAsm(double *,int ); \n",
    "\n",
    "int main(int argc, char **argv){\n",
    "    double calculoC,calculoASM,d=0.5,valor;\n",
    "    int i, N, cantpar, r2,a=4;\n",
    "    double *arr;\n",
    "    N = argc - 1; \n",
    "    arr = (double*) malloc(N*sizeof(double));\n",
    "    //printf(\"%d\\n\", sizeof(arr));\n",
    "    \n",
    "    if (argc < 2){\n",
    "        N = 3;\n",
    "        for (i = 0; i < N; i++) arr[i] = i;\n",
    "    } else{\n",
    "        for (i = 1; i < argc; i++) arr[i-1] = (double)atoi(argv[i]);\n",
    "    }\n",
    "    calculoC=calculovarianzaC(arr,N);\n",
    "    printf(\"la varianza en C  es %lf \\n\",calculoC); \n",
    "    calculoASM=calculoVarianzaAsm(arr,N);\n",
    "    printf(\"la varianza en ASM es %lf \\n\",calculoASM);\n",
    "    return 0;\n",
    "}\n",
    "double media(double *v, int tam){\n",
    "    double m,suma=0;\n",
    "    for(int i=0;i<tam;i++)\n",
    "        suma+=v[i];\n",
    "    \n",
    "    m=(double)suma/tam;\n",
    "return m;\n",
    "}\n",
    "double calculovarianzaC(double *v,int cant){\n",
    "    double varianza,med=media(v,cant);\n",
    "    for(int i=0;i<cant;i++)\n",
    "        varianza+= pow(v[i]-med,2);\n",
    "    return ((double)varianza/cant);\n",
    "}"
   ]
  },
  {
   "cell_type": "markdown",
   "id": "1f15dbc7",
   "metadata": {},
   "source": [
    "Aquí lo compilo y genero el archivo objeto de mi función en assembler y linkeo los archivos"
   ]
  },
  {
   "cell_type": "code",
   "execution_count": 6,
   "id": "c4722d74",
   "metadata": {},
   "outputs": [
    {
     "name": "stdout",
     "output_type": "stream",
     "text": [
      "la varianza en C  es 2.000000 \r\n",
      "la varianza en ASM es 2.000000 \r\n"
     ]
    }
   ],
   "source": [
    "! nasm -g -f elf64 calculo_varianza.asm -o calculoASM.o\n",
    "! gcc -g calculoASM.o  funcionmain.c -o varianza -lm\n",
    "! ./varianza 1 2 3 4 5"
   ]
  },
  {
   "cell_type": "markdown",
   "id": "746a5ca7",
   "metadata": {},
   "source": [
    "Escribo el gdb "
   ]
  },
  {
   "cell_type": "code",
   "execution_count": 20,
   "id": "4e60fccc",
   "metadata": {},
   "outputs": [
    {
     "name": "stdout",
     "output_type": "stream",
     "text": [
      "Overwriting depurador.gdb\n"
     ]
    }
   ],
   "source": [
    "%%file depurador.gdb \n",
    "set logging file reporte.txt\n",
    "set print pretty on\n",
    "set logging on\n",
    "set pagination off\n",
    "file varianza\n",
    "define hook-echo\n",
    "echo <------\n",
    "end\n",
    "define hookpost-echo\n",
    "echo ------>\\n\n",
    "end\n",
    "set args 1 2 3 4 5 \n",
    "b main\n",
    "b calculoVarianzaAsm\n",
    "b calcular_media\n",
    "b sumatoria \n",
    "b exit \n",
    "r\n",
    "c\n",
    "ni\n",
    "c\n",
    "set $cont=$ecx\n",
    "echo calculo de la  media\n",
    "while ($cont>0)\n",
    "    p $xmm1.v2_double[0] \n",
    "    p $xmm2.v2_double[0]\n",
    "    p $cont\n",
    "    c\n",
    "    #set $aux= $aux -1\n",
    "    set $cont= $ecx \n",
    "end\n",
    "set $cont = $ecx \n",
    "#set $aux = 6\n",
    "echo calculo de la sumatoria\n",
    "while ($cont>0)\n",
    "    p $xmm1.v2_double[0] \n",
    "    p $xmm4.v2_double[0]\n",
    "    p $cont\n",
    "    c\n",
    "    #set $aux= $aux -1\n",
    "    set $cont= $ecx \n",
    "end\n",
    "    p $xmm4.v2_double[0]\n",
    "quit\n"
   ]
  },
  {
   "cell_type": "code",
   "execution_count": 21,
   "id": "e5ff7759",
   "metadata": {},
   "outputs": [
    {
     "name": "stdout",
     "output_type": "stream",
     "text": [
      "\u001b[35;1m\u001b[35;1mGNU gdb \u001b[m\u001b[35;1m(Ubuntu 9.1-0ubuntu1) \u001b[m\u001b[35;1m9.1\u001b[m\u001b[35;1m\n",
      "\u001b[m\u001b[mCopyright (C) 2020 Free Software Foundation, Inc.\n",
      "License GPLv3+: GNU GPL version 3 or later <http://gnu.org/licenses/gpl.html>\n",
      "This is free software: you are free to change and redistribute it.\n",
      "There is NO WARRANTY, to the extent permitted by law.\n",
      "Type \"show copying\" and \"show warranty\" for details.\n",
      "This GDB was configured as \"x86_64-linux-gnu\".\n",
      "Type \"show configuration\" for configuration details.\n",
      "For bug reporting instructions, please see:\n",
      "<http://www.gnu.org/software/gdb/bugs/>.\n",
      "Find the GDB manual and other documentation resources online at:\n",
      "    <http://www.gnu.org/software/gdb/documentation/>.\n",
      "\n",
      "For help, type \"help\".\n",
      "Type \"apropos word\" to search for commands related to \"word\".\n",
      "Breakpoint 1 at \u001b[34m0x11d7\u001b[m: file \u001b[32mfuncionmain.c\u001b[m, line 10.\n",
      "Breakpoint 2 at \u001b[34m0x1170\u001b[m\n",
      "Breakpoint 3 at \u001b[34m0x1195\u001b[m\n",
      "Breakpoint 4 at \u001b[34m0x11b6\u001b[m\n",
      "Breakpoint 5 at \u001b[34m0x11d2\u001b[m\n",
      "\n",
      "Breakpoint 1, \u001b[33mmain\u001b[m (\u001b[36margc\u001b[m=21845, \u001b[36margv\u001b[m=0x7fffffffdd36) at \u001b[32mfuncionmain.c\u001b[m:10\n",
      "10\tint main(int argc, char **argv){\n",
      "la varianza en C  es 2.000000 \n",
      "\n",
      "Breakpoint 2, \u001b[34m0x0000555555555170\u001b[m in \u001b[33mcalculoVarianzaAsm\u001b[m ()\n",
      "\u001b[34m0x0000555555555174\u001b[m in \u001b[33mcalculoVarianzaAsm\u001b[m ()\n",
      "\n",
      "Breakpoint 3, \u001b[34m0x0000555555555195\u001b[m in \u001b[33mcalcular_media\u001b[m ()\n",
      "<------\u001b[mcalculo de la  media\u001b[m------>\n",
      "\u001b[m$1 = 0\n",
      "$2 = 0\n",
      "$3 = 5\n",
      "\n",
      "Breakpoint 3, \u001b[34m0x0000555555555195\u001b[m in \u001b[33mcalcular_media\u001b[m ()\n",
      "$4 = 0.20000000000000001\n",
      "$5 = 0.20000000000000001\n",
      "$6 = 4\n",
      "\n",
      "Breakpoint 3, \u001b[34m0x0000555555555195\u001b[m in \u001b[33mcalcular_media\u001b[m ()\n",
      "$7 = 0.40000000000000002\n",
      "$8 = 0.60000000000000009\n",
      "$9 = 3\n",
      "\n",
      "Breakpoint 3, \u001b[34m0x0000555555555195\u001b[m in \u001b[33mcalcular_media\u001b[m ()\n",
      "$10 = 0.59999999999999998\n",
      "$11 = 1.2000000000000002\n",
      "$12 = 2\n",
      "\n",
      "Breakpoint 3, \u001b[34m0x0000555555555195\u001b[m in \u001b[33mcalcular_media\u001b[m ()\n",
      "$13 = 0.80000000000000004\n",
      "$14 = 2\n",
      "$15 = 1\n",
      "\n",
      "Breakpoint 4, \u001b[34m0x00005555555551b6\u001b[m in \u001b[33msumatoria\u001b[m ()\n",
      "$16 = 0\n",
      "$17 = 3\n",
      "$18 = 5\n",
      "\n",
      "Breakpoint 4, \u001b[34m0x00005555555551b6\u001b[m in \u001b[33msumatoria\u001b[m ()\n",
      "$19 = 4\n",
      "$20 = 3\n",
      "$21 = 4\n",
      "\n",
      "Breakpoint 4, \u001b[34m0x00005555555551b6\u001b[m in \u001b[33msumatoria\u001b[m ()\n",
      "$22 = 1\n",
      "$23 = 3\n",
      "$24 = 3\n",
      "\n",
      "Breakpoint 4, \u001b[34m0x00005555555551b6\u001b[m in \u001b[33msumatoria\u001b[m ()\n",
      "$25 = 0\n",
      "$26 = 3\n",
      "$27 = 2\n",
      "\n",
      "Breakpoint 4, \u001b[34m0x00005555555551b6\u001b[m in \u001b[33msumatoria\u001b[m ()\n",
      "$28 = 1\n",
      "$29 = 3\n",
      "$30 = 1\n",
      "la varianza en ASM es 2.000000 \n",
      "\n",
      "Breakpoint 5, \u001b[33m__GI_exit\u001b[m (\u001b[36mstatus\u001b[m=0) at \u001b[32mexit.c\u001b[m:138\n",
      "138\texit.c: No such file or directory.\n",
      "<------\u001b[mcalculo de la sumatoria\u001b[m------>\n",
      "\u001b[m$31 = 2\n",
      "A debugging session is active.\n",
      "\n",
      "\tInferior 1 [process 6703] will be killed.\n",
      "\n",
      "Quit anyway? (y or n) [answered Y; input not from terminal]\n"
     ]
    }
   ],
   "source": [
    "! gdb -x depurador.gdb"
   ]
  },
  {
   "cell_type": "markdown",
   "id": "02b874dd",
   "metadata": {},
   "source": [
    "---------------------------------------------------------------------"
   ]
  },
  {
   "cell_type": "markdown",
   "id": "b00edfce",
   "metadata": {},
   "source": [
    "## Empiezo  a practicar para calcular graficas"
   ]
  },
  {
   "cell_type": "markdown",
   "id": "81a95174",
   "metadata": {},
   "source": [
    " Creo el file en C de la función assembler"
   ]
  },
  {
   "cell_type": "code",
   "execution_count": 7,
   "id": "daec132d",
   "metadata": {},
   "outputs": [
    {
     "name": "stdout",
     "output_type": "stream",
     "text": [
      "Overwriting caculoAsm_varianza.c\n"
     ]
    }
   ],
   "source": [
    "%%file caculoAsm_varianza.c\n",
    "extern double calcularVarianzaASM(double *,int );"
   ]
  },
  {
   "cell_type": "markdown",
   "id": "99dafa2c",
   "metadata": {},
   "source": [
    " Generamos la libería"
   ]
  },
  {
   "cell_type": "code",
   "execution_count": 8,
   "id": "568dd672",
   "metadata": {},
   "outputs": [],
   "source": [
    "! nasm -g -f elf64 calculo_varianza.asm -o calculoASM.o\n",
    "! gcc -g -shared calculoASM.o  caculoAsm_varianza.c -o calculoVarianzaAsm.so"
   ]
  },
  {
   "cell_type": "code",
   "execution_count": 9,
   "id": "96ea3dbe",
   "metadata": {},
   "outputs": [
    {
     "name": "stdout",
     "output_type": "stream",
     "text": [
      "Overwriting calculoC_varianza.c\n"
     ]
    }
   ],
   "source": [
    "%%file calculoC_varianza.c\n",
    "#include <stdio.h>\n",
    "#include<math.h>\n",
    "#include<stdlib.h>\n",
    "double media(double *v, int tam){\n",
    "    double m,suma=0;\n",
    "    for(int i=0;i<tam;i++)\n",
    "        suma+=v[i];\n",
    "    \n",
    "    m=(double)suma/tam;\n",
    "return m;\n",
    "}\n",
    "double calculovarianzaC(double *v,int cant){\n",
    "    double varianza,med=media(v,cant);\n",
    "    for(int i=0;i<cant;i++)\n",
    "        varianza+= pow(v[i]-med,2);\n",
    "    return ((double)varianza/cant);\n",
    "}"
   ]
  },
  {
   "cell_type": "code",
   "execution_count": 10,
   "id": "5356eea3",
   "metadata": {},
   "outputs": [],
   "source": [
    "! gcc -c -Wall -Werror -fpic calculoC_varianza.c\n",
    "! gcc -shared calculoC_varianza.o -o calculovarianzaC.so"
   ]
  },
  {
   "cell_type": "code",
   "execution_count": 11,
   "id": "42c1f03d",
   "metadata": {},
   "outputs": [],
   "source": [
    "def ctypes_calculoVarianzaAsm():\n",
    "    #indicar la ruta del a shared library \n",
    "    libfile='./calculoVarianzaAsm.so'\n",
    "    #cargar la shared library\n",
    "    lib=ctypes.CDLL(libfile)\n",
    "    #si quisiera poner double es np.float64\n",
    "    lib.calculoVarianzaAsm.argtypes=[\n",
    "        np.ctypeslib.ndpointer(dtype=np.float64),\n",
    "        ctypes.c_int\n",
    "    ]\n",
    "    #tipo de dato que devuelve\n",
    "    lib.calculoVarianzaAsm.restype=ctypes.c_double\n",
    "    return lib.calculoVarianzaAsm"
   ]
  },
  {
   "cell_type": "code",
   "execution_count": 12,
   "id": "44531402",
   "metadata": {},
   "outputs": [],
   "source": [
    "def ctypes_calculovarianzaC():\n",
    "    #indicar la ruta del a shared library \n",
    "    libfile='./calculovarianzaC.so'\n",
    "    #cargar la shared library\n",
    "    lib= ctypes.CDLL(libfile)\n",
    "    #si quisiera poner double es np.float64\n",
    "    lib.calculovarianzaC.argtypes=[\n",
    "        np.ctypeslib.ndpointer(dtype=np.float64),\n",
    "        ctypes.c_int\n",
    "    ]\n",
    "    #tipo de dato que devuelve\n",
    "    lib.calculovarianzaC.restype=ctypes.c_double\n",
    "    return lib.calculovarianzaC"
   ]
  },
  {
   "cell_type": "code",
   "execution_count": 13,
   "id": "7a85c786",
   "metadata": {},
   "outputs": [],
   "source": [
    "# tam\n",
    "size = 5\n",
    "\n",
    "# entradas\n",
    "x = np.random.rand(size,1).astype(np.float64)\n",
    "#y = np.random.rand(size,1).astype(np.float32)\n",
    "\n",
    "calculoVarianzaAsm=ctypes_calculoVarianzaAsm()\n",
    "calculovarianzaC=ctypes_calculovarianzaC()\n"
   ]
  },
  {
   "cell_type": "markdown",
   "id": "a320b2f7",
   "metadata": {},
   "source": [
    "pruebo las dos funciones"
   ]
  },
  {
   "cell_type": "code",
   "execution_count": 14,
   "id": "da690d93",
   "metadata": {},
   "outputs": [
    {
     "data": {
      "text/plain": [
       "True"
      ]
     },
     "execution_count": 14,
     "metadata": {},
     "output_type": "execute_result"
    }
   ],
   "source": [
    "calculoVarianzaAsm(x,size)==calculovarianzaC(x,size)"
   ]
  },
  {
   "cell_type": "code",
   "execution_count": 15,
   "id": "7f53da55",
   "metadata": {},
   "outputs": [
    {
     "data": {
      "text/plain": [
       "0.07478330576100099"
      ]
     },
     "execution_count": 15,
     "metadata": {},
     "output_type": "execute_result"
    }
   ],
   "source": [
    "calculoVarianzaAsm(x,size)"
   ]
  },
  {
   "cell_type": "code",
   "execution_count": 16,
   "id": "f2f6ffd0",
   "metadata": {},
   "outputs": [
    {
     "data": {
      "text/plain": [
       "0.07478330576100099"
      ]
     },
     "execution_count": 16,
     "metadata": {},
     "output_type": "execute_result"
    }
   ],
   "source": [
    "calculovarianzaC(x,size)"
   ]
  },
  {
   "cell_type": "markdown",
   "id": "7423db8b",
   "metadata": {},
   "source": [
    "Función auxiliar llamada filtro mediana"
   ]
  },
  {
   "cell_type": "code",
   "execution_count": 23,
   "id": "a6c8af94",
   "metadata": {},
   "outputs": [],
   "source": [
    "import statistics\n",
    "\n",
    "def filtro_mediana(sign, ventana):\n",
    "    signc = []\n",
    "    tam = len(sign)\n",
    "    offs = int((ventana-1)/2)\n",
    "    for i in range(tam):\n",
    "        inicio = i - offs if (i - offs > 0) else i\n",
    "        fin = i + offs if (i + offs < tam) else tam\n",
    "        signc.append(statistics.median(sign[inicio:fin]))\n",
    "    return signc"
   ]
  },
  {
   "cell_type": "markdown",
   "id": "fb9a4935",
   "metadata": {},
   "source": [
    "Variables donde estarán las mediciones"
   ]
  },
  {
   "cell_type": "code",
   "execution_count": 33,
   "id": "7d04df47",
   "metadata": {},
   "outputs": [],
   "source": [
    "# modulo para medir el tiempo\n",
    "import time\n",
    "\n",
    "# tamaños de los arreglos\n",
    "sizes = 2**np.arange(1,10)\n",
    "\n",
    "# tiempos de la suma de arreglos de floats64 en C\n",
    "tc = np.zeros((len(sizes),1),dtype=np.float64)#retorna un arreglo vacío\n",
    "#            filas=4,colum=1, tipo\n",
    "# tiempos de la suma de arreglos de floats64 en ASM\n",
    "tasm = np.zeros((len(sizes),1),dtype=np.float64)\n",
    "\n",
    "# tiempo con ruido en C\n",
    "tcr = np.zeros((len(sizes),1),dtype=np.float64)\n",
    "\n",
    "# tiempo con ruido en ASM\n",
    "tasmr = np.zeros((len(sizes),1),dtype=np.float64)"
   ]
  },
  {
   "cell_type": "markdown",
   "id": "70d5fd2d",
   "metadata": {},
   "source": [
    "# Mediciones para el caso más pequeño"
   ]
  },
  {
   "cell_type": "code",
   "execution_count": 34,
   "id": "893bb996",
   "metadata": {},
   "outputs": [],
   "source": [
    "# primero el caso más pequeño\n",
    "veces = 40\n",
    "tam = sizes[0]\n",
    "index = range(veces)\n",
    "tcp = []\n",
    "tasmp = []\n",
    "\n",
    "for i in range(veces):\n",
    "    # entradas\n",
    "    xp = np.random.rand(tam,1).astype(np.float64)\n",
    "    #yp = np.random.rand(tam,1).astype(np.float64)\n",
    "    \n",
    "    # tiempo C\n",
    "    t = time.time()\n",
    "    rc = calculovarianzaC(xp,tam)\n",
    "    tcp.append(time.time() - t)\n",
    "    \n",
    "    # tiempo ASM\n",
    "    t = time.time()\n",
    "    rasm = calculoVarianzaAsm(xp,tam)\n",
    "    tasmp.append(time.time() - t)"
   ]
  },
  {
   "cell_type": "code",
   "execution_count": 35,
   "id": "5ab176d4",
   "metadata": {},
   "outputs": [
    {
     "data": {
      "image/png": "[encoded data removed]",
      "text/plain": [
       "<Figure size 432x288 with 1 Axes>"
      ]
     },
     "metadata": {
      "needs_background": "light"
     },
     "output_type": "display_data"
    }
   ],
   "source": [
    "plt.plot(index, tcp, 'r-', label='tiempo C')\n",
    "plt.plot(index, tasmp, 'b-', label='tiempo ASM')\n",
    "plt.xlabel('index')\n",
    "plt.ylabel('tiempo')\n",
    "plt.legend()\n",
    "plt.show()"
   ]
  },
  {
   "cell_type": "markdown",
   "id": "f5e0e619",
   "metadata": {},
   "source": [
    "Gráficos de los mediciones sin ruido para distintos tamaño de ventana"
   ]
  },
  {
   "cell_type": "code",
   "execution_count": 40,
   "id": "997d611e",
   "metadata": {},
   "outputs": [
    {
     "data": {
      "text/plain": [
       "<matplotlib.legend.Legend at 0x7fda5a9b4280>"
      ]
     },
     "execution_count": 40,
     "metadata": {},
     "output_type": "execute_result"
    },
    {
     "data": {
      "image/png": "[encoded data removed]",
      "text/plain": [
       "<Figure size 432x288 with 1 Axes>"
      ]
     },
     "metadata": {
      "needs_background": "light"
     },
     "output_type": "display_data"
    }
   ],
   "source": [
    "# primero los tiempos de C\n",
    "plt.subplot(2,1,1)\n",
    "plt.plot(index, tcp, label='C original')\n",
    "plt.plot(index, filtro_mediana(tcp,3), label='ventana de 3')\n",
    "plt.plot(index, filtro_mediana(tcp,5), label='ventana de 5')\n",
    "plt.plot(index, filtro_mediana(tcp,7), label='ventana de 7')\n",
    "plt.plot(index, filtro_mediana(tcp,9), label='ventana de 9')\n",
    "plt.xlabel('index')\n",
    "plt.ylabel('tiempo')\n",
    "plt.legend()\n"
   ]
  },
  {
   "cell_type": "code",
   "execution_count": 41,
   "id": "aacba0a9",
   "metadata": {},
   "outputs": [
    {
     "data": {
      "image/png": "[encoded data removed]",
      "text/plain": [
       "<Figure size 432x288 with 1 Axes>"
      ]
     },
     "metadata": {
      "needs_background": "light"
     },
     "output_type": "display_data"
    }
   ],
   "source": [
    "\n",
    "# luego los tiempos de ASM\n",
    "plt.subplot(2,1,2)\n",
    "plt.plot(index, tasmp, label='ASM original')\n",
    "plt.plot(index, filtro_mediana(tasmp,3), label='ventana de 3')\n",
    "plt.plot(index, filtro_mediana(tasmp,5), label='ventana de 5')\n",
    "plt.plot(index, filtro_mediana(tasmp,7), label='ventana de 7')\n",
    "plt.plot(index, filtro_mediana(tasmp,9), label='ventana de 9')\n",
    "plt.xlabel('index')\n",
    "plt.ylabel('tiempo')\n",
    "plt.legend()\n",
    "# para evitar que los gráficos estén muy pegados\n",
    "plt.tight_layout()"
   ]
  },
  {
   "cell_type": "markdown",
   "id": "47106c0e",
   "metadata": {},
   "source": [
    "Comparación del promedio con ruido y sin ruido en el caso pequegno de la función en C y ASM"
   ]
  },
  {
   "cell_type": "code",
   "execution_count": 37,
   "id": "45191e13",
   "metadata": {},
   "outputs": [
    {
     "data": {
      "image/png": "[encoded data removed]",
      "text/plain": [
       "<Figure size 432x288 with 1 Axes>"
      ]
     },
     "metadata": {
      "needs_background": "light"
     },
     "output_type": "display_data"
    }
   ],
   "source": [
    "noms = ['C','C sin ruido','ASM','ASM sin ruido']\n",
    "proms = [ \n",
    "    statistics.mean(tcp), \n",
    "    statistics.mean(filtro_mediana(tcp,9)),\n",
    "    statistics.mean(tasmp), \n",
    "    statistics.mean(filtro_mediana(tasmp,9))\n",
    "]\n",
    "plt.bar(noms,proms,color='r')\n",
    "plt.xlabel('lenguaje')\n",
    "plt.ylabel('tiempo promedio')\n",
    "plt.title('caso pequegno')\n",
    "plt.tight_layout()"
   ]
  },
  {
   "cell_type": "markdown",
   "id": "5cf10710",
   "metadata": {},
   "source": [
    "# Mediciones para el caso mas grande"
   ]
  },
  {
   "cell_type": "code",
   "execution_count": 38,
   "id": "e3baf8bf",
   "metadata": {},
   "outputs": [],
   "source": [
    "# primero el caso más pequeño\n",
    "veces = 40\n",
    "tam = sizes[-1]\n",
    "index = range(veces)\n",
    "tcp = []\n",
    "tasmp = []\n",
    "\n",
    "for i in range(veces):\n",
    "    # entradas\n",
    "    xp = np.random.rand(tam,1).astype(np.float64)\n",
    "    #yp = np.random.rand(tam,1).astype(np.float64)\n",
    "    \n",
    "    # tiempo C\n",
    "    t = time.time()\n",
    "    rc = calculovarianzaC(xp,tam)\n",
    "    tcp.append(time.time() - t)\n",
    "    \n",
    "    # tiempo ASM\n",
    "    t = time.time()\n",
    "    rasm = calculoVarianzaAsm(xp,tam)\n",
    "    tasmp.append(time.time() - t)"
   ]
  },
  {
   "cell_type": "code",
   "execution_count": 39,
   "id": "5540b788",
   "metadata": {},
   "outputs": [
    {
     "data": {
      "image/png": "[encoded data removed]",
      "text/plain": [
       "<Figure size 432x288 with 1 Axes>"
      ]
     },
     "metadata": {
      "needs_background": "light"
     },
     "output_type": "display_data"
    }
   ],
   "source": [
    "plt.plot(index, tcp, 'r-', label='tiempo C')\n",
    "plt.plot(index, tasmp, 'b-', label='tiempo ASM')\n",
    "plt.xlabel('index')\n",
    "plt.ylabel('tiempo')\n",
    "plt.legend()\n",
    "plt.show()"
   ]
  },
  {
   "cell_type": "code",
   "execution_count": 42,
   "id": "6160714e",
   "metadata": {},
   "outputs": [
    {
     "data": {
      "image/png": "[encoded data removed]",
      "text/plain": [
       "<Figure size 432x288 with 1 Axes>"
      ]
     },
     "metadata": {
      "needs_background": "light"
     },
     "output_type": "display_data"
    }
   ],
   "source": [
    "noms = ['C','C sin ruido','ASM','ASM sin ruido']\n",
    "proms = [ \n",
    "    statistics.mean(tcp), \n",
    "    statistics.mean(filtro_mediana(tcp,9)),\n",
    "    statistics.mean(tasmp), \n",
    "    statistics.mean(filtro_mediana(tasmp,9))\n",
    "]\n",
    "plt.bar(noms,proms,color='r')\n",
    "plt.xlabel('lenguaje')\n",
    "plt.ylabel('tiempo promedio')\n",
    "plt.title('caso grande')\n",
    "plt.tight_layout()"
   ]
  },
  {
   "cell_type": "code",
   "execution_count": null,
   "id": "7a1d24c4",
   "metadata": {},
   "outputs": [],
   "source": []
  }
 ],
 "metadata": {
  "kernelspec": {
   "display_name": "Python 3 (ipykernel)",
   "language": "python",
   "name": "python3"
  },
  "language_info": {
   "codemirror_mode": {
    "name": "ipython",
    "version": 3
   },
   "file_extension": ".py",
   "mimetype": "text/x-python",
   "name": "python",
   "nbconvert_exporter": "python",
   "pygments_lexer": "ipython3",
   "version": "3.8.10"
  }
 },
 "nbformat": 4,
 "nbformat_minor": 5
}
